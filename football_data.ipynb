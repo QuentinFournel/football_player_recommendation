{
 "cells": [
  {
   "cell_type": "markdown",
   "metadata": {},
   "source": [
    "# Football Player Recommendation"
   ]
  },
  {
   "cell_type": "code",
   "execution_count": 14,
   "metadata": {},
   "outputs": [],
   "source": [
    "import pandas as pd\n",
    "import itertools\n",
    "import plotly.graph_objects as go\n",
    "from plotly.subplots import make_subplots"
   ]
  },
  {
   "cell_type": "markdown",
   "metadata": {},
   "source": [
    "*Prétraitement*"
   ]
  },
  {
   "cell_type": "code",
   "execution_count": 15,
   "metadata": {},
   "outputs": [],
   "source": [
    "# Lire les données depuis le fichier CSV\n",
    "valuations = pd.read_csv('dataset/player_valuations.csv', encoding='latin1', delimiter=',')\n",
    "\n",
    "# Convertir la colonne 'date' en type datetime\n",
    "valuations['date'] = pd.to_datetime(valuations['date'])\n",
    "\n",
    "# Trier les données par 'player_id' et 'date' en ordre décroissant\n",
    "valuations = valuations.sort_values(by=['player_id', 'date'], ascending=[True, False])\n",
    "\n",
    "# Garder seulement la ligne la plus récente pour chaque 'player_id'\n",
    "valuations = valuations.drop_duplicates(subset=['player_id'], keep='first')"
   ]
  },
  {
   "cell_type": "code",
   "execution_count": 16,
   "metadata": {},
   "outputs": [],
   "source": [
    "players = pd.read_csv('dataset/players.csv', encoding='latin1', delimiter=',')\n",
    "\n",
    "value_df = pd.merge(players, valuations, on='player_id')\n",
    "\n",
    "value_df = value_df[['name', 'market_value_in_eur_x']]\n",
    "\n",
    "value_df['market_value_in_eur_x'] = value_df['market_value_in_eur_x'] / 1000000\n",
    "\n",
    "value_df = value_df.rename(columns={'name': 'Player', 'market_value_in_eur_x': 'Value (in M€)'})"
   ]
  },
  {
   "cell_type": "code",
   "execution_count": 17,
   "metadata": {},
   "outputs": [],
   "source": [
    "player_df = pd.read_csv('dataset/player_stats_22_23.csv', encoding='latin1', delimiter=';')\n",
    "\n",
    "df = pd.merge(player_df, value_df, on='Player')\n",
    "\n",
    "df = df.rename(columns={'Comp': 'League', 'Pos': 'Position', 'Min': 'Minutes played'})"
   ]
  },
  {
   "cell_type": "markdown",
   "metadata": {},
   "source": [
    "*Gérer les joueurs ayant été transféré au mercato hivernal apparaisant donc deux fois dans le dataset*"
   ]
  },
  {
   "cell_type": "code",
   "execution_count": 18,
   "metadata": {},
   "outputs": [],
   "source": [
    "# Switch 'Age' and 'Born' columns into string type\n",
    "df['Age'] = df['Age'].astype(str)\n",
    "df['Born'] = df['Born'].astype(str)\n",
    "\n",
    "# If duplicate players, merge them by summing the integer columns and averaging the float columns\n",
    "int_columns = df.select_dtypes(include='int').columns\n",
    "float_columns = df.select_dtypes(include='float').columns\n",
    "string_columns = df.select_dtypes(include='object').columns\n",
    "\n",
    "agg_funcs = {col: 'sum' for col in int_columns}\n",
    "agg_funcs.update({col: 'mean' for col in float_columns})\n",
    "agg_funcs.update({col: 'first' for col in string_columns if col != 'Player'})  # Exclude 'Player' column\n",
    "\n",
    "df = df.groupby('Player').agg(agg_funcs).reset_index()"
   ]
  },
  {
   "cell_type": "markdown",
   "metadata": {},
   "source": [
    "*Algorithme de recommandation*"
   ]
  },
  {
   "cell_type": "code",
   "execution_count": 19,
   "metadata": {},
   "outputs": [
    {
     "name": "stdout",
     "output_type": "stream",
     "text": [
      "Nombre de colonnes: 12\n"
     ]
    },
    {
     "data": {
      "text/html": [
       "<div>\n",
       "<style scoped>\n",
       "    .dataframe tbody tr th:only-of-type {\n",
       "        vertical-align: middle;\n",
       "    }\n",
       "\n",
       "    .dataframe tbody tr th {\n",
       "        vertical-align: top;\n",
       "    }\n",
       "\n",
       "    .dataframe thead th {\n",
       "        text-align: right;\n",
       "    }\n",
       "</style>\n",
       "<table border=\"1\" class=\"dataframe\">\n",
       "  <thead>\n",
       "    <tr style=\"text-align: right;\">\n",
       "      <th></th>\n",
       "      <th>Player</th>\n",
       "      <th>Age</th>\n",
       "      <th>Squad</th>\n",
       "      <th>League</th>\n",
       "      <th>Nation</th>\n",
       "      <th>Position</th>\n",
       "      <th>Value (in M€)</th>\n",
       "      <th>Minutes played</th>\n",
       "      <th>PasAss</th>\n",
       "      <th>PasProg</th>\n",
       "      <th>TB</th>\n",
       "    </tr>\n",
       "  </thead>\n",
       "  <tbody>\n",
       "    <tr>\n",
       "      <th>1384</th>\n",
       "      <td>Rayan Cherki</td>\n",
       "      <td>19</td>\n",
       "      <td>Lyon</td>\n",
       "      <td>Ligue 1</td>\n",
       "      <td>FRA</td>\n",
       "      <td>MFFW</td>\n",
       "      <td>25.0</td>\n",
       "      <td>695</td>\n",
       "      <td>5.06</td>\n",
       "      <td>7.27</td>\n",
       "      <td>0.39</td>\n",
       "    </tr>\n",
       "    <tr>\n",
       "      <th>408</th>\n",
       "      <td>Dominik Szoboszlai</td>\n",
       "      <td>22</td>\n",
       "      <td>RB Leipzig</td>\n",
       "      <td>Bundesliga</td>\n",
       "      <td>HUN</td>\n",
       "      <td>MFFW</td>\n",
       "      <td>75.0</td>\n",
       "      <td>1353</td>\n",
       "      <td>2.60</td>\n",
       "      <td>5.27</td>\n",
       "      <td>0.67</td>\n",
       "    </tr>\n",
       "    <tr>\n",
       "      <th>168</th>\n",
       "      <td>Arne Engels</td>\n",
       "      <td>19</td>\n",
       "      <td>Augsburg</td>\n",
       "      <td>Bundesliga</td>\n",
       "      <td>BEL</td>\n",
       "      <td>MF</td>\n",
       "      <td>7.5</td>\n",
       "      <td>421</td>\n",
       "      <td>2.55</td>\n",
       "      <td>6.17</td>\n",
       "      <td>0.21</td>\n",
       "    </tr>\n",
       "    <tr>\n",
       "      <th>534</th>\n",
       "      <td>Florian Wirtz</td>\n",
       "      <td>19</td>\n",
       "      <td>Leverkusen</td>\n",
       "      <td>Bundesliga</td>\n",
       "      <td>GER</td>\n",
       "      <td>FWMF</td>\n",
       "      <td>100.0</td>\n",
       "      <td>276</td>\n",
       "      <td>2.26</td>\n",
       "      <td>7.10</td>\n",
       "      <td>1.61</td>\n",
       "    </tr>\n",
       "    <tr>\n",
       "      <th>245</th>\n",
       "      <td>Callum Hudson-Odoi</td>\n",
       "      <td>22</td>\n",
       "      <td>Leverkusen</td>\n",
       "      <td>Bundesliga</td>\n",
       "      <td>ENG</td>\n",
       "      <td>FWMF</td>\n",
       "      <td>12.0</td>\n",
       "      <td>552</td>\n",
       "      <td>2.13</td>\n",
       "      <td>4.92</td>\n",
       "      <td>0.16</td>\n",
       "    </tr>\n",
       "    <tr>\n",
       "      <th>299</th>\n",
       "      <td>Cristian Volpato</td>\n",
       "      <td>19</td>\n",
       "      <td>Roma</td>\n",
       "      <td>Serie A</td>\n",
       "      <td>ITA</td>\n",
       "      <td>MF</td>\n",
       "      <td>5.0</td>\n",
       "      <td>191</td>\n",
       "      <td>1.90</td>\n",
       "      <td>7.14</td>\n",
       "      <td>0.48</td>\n",
       "    </tr>\n",
       "    <tr>\n",
       "      <th>1336</th>\n",
       "      <td>Pedri</td>\n",
       "      <td>20</td>\n",
       "      <td>Barcelona</td>\n",
       "      <td>La Liga</td>\n",
       "      <td>ESP</td>\n",
       "      <td>MFFW</td>\n",
       "      <td>90.0</td>\n",
       "      <td>1539</td>\n",
       "      <td>1.87</td>\n",
       "      <td>8.30</td>\n",
       "      <td>0.94</td>\n",
       "    </tr>\n",
       "    <tr>\n",
       "      <th>1152</th>\n",
       "      <td>Maxence Caqueret</td>\n",
       "      <td>22</td>\n",
       "      <td>Lyon</td>\n",
       "      <td>Ligue 1</td>\n",
       "      <td>FRA</td>\n",
       "      <td>MF</td>\n",
       "      <td>18.0</td>\n",
       "      <td>1463</td>\n",
       "      <td>1.84</td>\n",
       "      <td>7.06</td>\n",
       "      <td>0.25</td>\n",
       "    </tr>\n",
       "    <tr>\n",
       "      <th>345</th>\n",
       "      <td>David Pereira da Costa</td>\n",
       "      <td>22</td>\n",
       "      <td>Lens</td>\n",
       "      <td>Ligue 1</td>\n",
       "      <td>POR</td>\n",
       "      <td>MFFW</td>\n",
       "      <td>6.0</td>\n",
       "      <td>1231</td>\n",
       "      <td>1.75</td>\n",
       "      <td>6.79</td>\n",
       "      <td>0.15</td>\n",
       "    </tr>\n",
       "    <tr>\n",
       "      <th>866</th>\n",
       "      <td>Kamory Doumbia</td>\n",
       "      <td>19</td>\n",
       "      <td>Reims</td>\n",
       "      <td>Ligue 1</td>\n",
       "      <td>MLI</td>\n",
       "      <td>MF</td>\n",
       "      <td>2.0</td>\n",
       "      <td>891</td>\n",
       "      <td>1.52</td>\n",
       "      <td>6.16</td>\n",
       "      <td>0.30</td>\n",
       "    </tr>\n",
       "    <tr>\n",
       "      <th>428</th>\n",
       "      <td>Eduardo Camavinga</td>\n",
       "      <td>20</td>\n",
       "      <td>Real Madrid</td>\n",
       "      <td>La Liga</td>\n",
       "      <td>FRA</td>\n",
       "      <td>MFDF</td>\n",
       "      <td>90.0</td>\n",
       "      <td>914</td>\n",
       "      <td>1.27</td>\n",
       "      <td>8.04</td>\n",
       "      <td>0.20</td>\n",
       "    </tr>\n",
       "    <tr>\n",
       "      <th>629</th>\n",
       "      <td>Harvey Elliott</td>\n",
       "      <td>19</td>\n",
       "      <td>Liverpool</td>\n",
       "      <td>Premier League</td>\n",
       "      <td>ENG</td>\n",
       "      <td>MFFW</td>\n",
       "      <td>30.0</td>\n",
       "      <td>1131</td>\n",
       "      <td>1.27</td>\n",
       "      <td>6.98</td>\n",
       "      <td>0.32</td>\n",
       "    </tr>\n",
       "  </tbody>\n",
       "</table>\n",
       "</div>"
      ],
      "text/plain": [
       "                      Player Age        Squad          League Nation Position  \\\n",
       "1384            Rayan Cherki  19         Lyon         Ligue 1    FRA     MFFW   \n",
       "408       Dominik Szoboszlai  22   RB Leipzig      Bundesliga    HUN     MFFW   \n",
       "168              Arne Engels  19     Augsburg      Bundesliga    BEL       MF   \n",
       "534            Florian Wirtz  19   Leverkusen      Bundesliga    GER     FWMF   \n",
       "245       Callum Hudson-Odoi  22   Leverkusen      Bundesliga    ENG     FWMF   \n",
       "299         Cristian Volpato  19         Roma         Serie A    ITA       MF   \n",
       "1336                   Pedri  20    Barcelona         La Liga    ESP     MFFW   \n",
       "1152        Maxence Caqueret  22         Lyon         Ligue 1    FRA       MF   \n",
       "345   David Pereira da Costa  22         Lens         Ligue 1    POR     MFFW   \n",
       "866           Kamory Doumbia  19        Reims         Ligue 1    MLI       MF   \n",
       "428        Eduardo Camavinga  20  Real Madrid         La Liga    FRA     MFDF   \n",
       "629           Harvey Elliott  19    Liverpool  Premier League    ENG     MFFW   \n",
       "\n",
       "      Value (in M€)  Minutes played  PasAss  PasProg    TB  \n",
       "1384           25.0             695    5.06     7.27  0.39  \n",
       "408            75.0            1353    2.60     5.27  0.67  \n",
       "168             7.5             421    2.55     6.17  0.21  \n",
       "534           100.0             276    2.26     7.10  1.61  \n",
       "245            12.0             552    2.13     4.92  0.16  \n",
       "299             5.0             191    1.90     7.14  0.48  \n",
       "1336           90.0            1539    1.87     8.30  0.94  \n",
       "1152           18.0            1463    1.84     7.06  0.25  \n",
       "345             6.0            1231    1.75     6.79  0.15  \n",
       "866             2.0             891    1.52     6.16  0.30  \n",
       "428            90.0             914    1.27     8.04  0.20  \n",
       "629            30.0            1131    1.27     6.98  0.32  "
      ]
     },
     "execution_count": 19,
     "metadata": {},
     "output_type": "execute_result"
    }
   ],
   "source": [
    "conditions = [['PasAss', 25], ['PasProg', 25], ['TB', 25]]\n",
    "maximum_age = 22\n",
    "maximal_value = None\n",
    "position = None\n",
    "\n",
    "df_final_filtered = pd.DataFrame()\n",
    "\n",
    "for condition in conditions:\n",
    "    attribute = condition[0]\n",
    "    percentage = condition[1]\n",
    "\n",
    "    # Calculer le nombre de joueurs à garder\n",
    "    top_n = int(len(df) * (percentage / 100))\n",
    "    \n",
    "    # Trier les joueurs selon l'attribut et garder les top_n\n",
    "    df_filtered = df.nlargest(top_n, attribute)\n",
    "\n",
    "    # Ajouter les résultats au DataFrame final\n",
    "    df_final_filtered = pd.concat([df_final_filtered, df_filtered])\n",
    "\n",
    "# Filtrer le DataFrame final pour garder seulement les joueurs qui satisfont toutes les conditions\n",
    "if (len(conditions) > 1):\n",
    "    df_final_filtered = df_final_filtered.groupby('Player').filter(lambda x: len(x) >= len(conditions))\n",
    "    df_final_filtered = df_final_filtered.drop_duplicates(subset='Player', keep='first')\n",
    "\n",
    "# Initialize condition as a boolean Series that represents no condition\n",
    "condition = pd.Series(True, index=df_final_filtered.index)\n",
    "\n",
    "# Apply conditions if necessary\n",
    "if maximum_age is not None:\n",
    "    condition &= (df_final_filtered['Age'].astype(int) <= maximum_age)\n",
    "    \n",
    "if maximal_value is not None:\n",
    "    condition &= (df_final_filtered['Value (in M€)'] <= maximal_value)\n",
    "\n",
    "if position is not None:\n",
    "    condition &= (df_final_filtered['Position'] == position)\n",
    "\n",
    "# Keep only players with correct condition\n",
    "df_final_filtered = df_final_filtered.loc[condition]\n",
    "\n",
    "df_final_filtered = df_final_filtered[['Player', 'Age', 'Squad', 'League', 'Nation', 'Position', 'Value (in M€)', 'Minutes played'] + [cond[0] for cond in conditions]]\n",
    "\n",
    "print(\"Nombre de colonnes: \" + str(len(df_final_filtered)))\n",
    "\n",
    "df_final_filtered"
   ]
  },
  {
   "cell_type": "markdown",
   "metadata": {},
   "source": [
    "*Création de graphs pour illustrer la comparaison de joueurs*"
   ]
  },
  {
   "cell_type": "code",
   "execution_count": 20,
   "metadata": {},
   "outputs": [
    {
     "data": {
      "application/vnd.plotly.v1+json": {
       "config": {
        "plotlyServerURL": "https://plot.ly"
       },
       "data": [
        {
         "hoverinfo": "text",
         "orientation": "h",
         "text": [
          "Rayan Cherki",
          "Dominik Szoboszlai",
          "Arne Engels",
          "Florian Wirtz",
          "Callum Hudson-Odoi",
          "Cristian Volpato",
          "Pedri",
          "Maxence Caqueret",
          "David Pereira da Costa",
          "Kamory Doumbia",
          "Eduardo Camavinga",
          "Harvey Elliott"
         ],
         "type": "bar",
         "x": [
          5.06,
          2.6,
          2.55,
          2.26,
          2.13,
          1.9,
          1.87,
          1.84,
          1.75,
          1.52,
          1.27,
          1.27
         ],
         "xaxis": "x",
         "y": [
          "Rayan Cherki",
          "Dominik Szoboszlai",
          "Arne Engels",
          "Florian Wirtz",
          "Callum Hudson-Odoi",
          "Cristian Volpato",
          "Pedri",
          "Maxence Caqueret",
          "David Pereira da Costa",
          "Kamory Doumbia",
          "Eduardo Camavinga",
          "Harvey Elliott"
         ],
         "yaxis": "y"
        },
        {
         "hoverinfo": "text",
         "orientation": "h",
         "text": [
          "Rayan Cherki",
          "Dominik Szoboszlai",
          "Arne Engels",
          "Florian Wirtz",
          "Callum Hudson-Odoi",
          "Cristian Volpato",
          "Pedri",
          "Maxence Caqueret",
          "David Pereira da Costa",
          "Kamory Doumbia",
          "Eduardo Camavinga",
          "Harvey Elliott"
         ],
         "type": "bar",
         "x": [
          7.27,
          5.27,
          6.17,
          7.1,
          4.92,
          7.14,
          8.3,
          7.06,
          6.79,
          6.16,
          8.04,
          6.98
         ],
         "xaxis": "x2",
         "y": [
          "Rayan Cherki",
          "Dominik Szoboszlai",
          "Arne Engels",
          "Florian Wirtz",
          "Callum Hudson-Odoi",
          "Cristian Volpato",
          "Pedri",
          "Maxence Caqueret",
          "David Pereira da Costa",
          "Kamory Doumbia",
          "Eduardo Camavinga",
          "Harvey Elliott"
         ],
         "yaxis": "y2"
        },
        {
         "hoverinfo": "text",
         "orientation": "h",
         "text": [
          "Rayan Cherki",
          "Dominik Szoboszlai",
          "Arne Engels",
          "Florian Wirtz",
          "Callum Hudson-Odoi",
          "Cristian Volpato",
          "Pedri",
          "Maxence Caqueret",
          "David Pereira da Costa",
          "Kamory Doumbia",
          "Eduardo Camavinga",
          "Harvey Elliott"
         ],
         "type": "bar",
         "x": [
          0.39,
          0.67,
          0.21,
          1.61,
          0.16,
          0.48,
          0.94,
          0.25,
          0.15,
          0.3,
          0.2,
          0.32
         ],
         "xaxis": "x3",
         "y": [
          "Rayan Cherki",
          "Dominik Szoboszlai",
          "Arne Engels",
          "Florian Wirtz",
          "Callum Hudson-Odoi",
          "Cristian Volpato",
          "Pedri",
          "Maxence Caqueret",
          "David Pereira da Costa",
          "Kamory Doumbia",
          "Eduardo Camavinga",
          "Harvey Elliott"
         ],
         "yaxis": "y3"
        }
       ],
       "layout": {
        "annotations": [
         {
          "font": {
           "size": 16
          },
          "showarrow": false,
          "text": "PasAss",
          "x": 0.14444444444444446,
          "xanchor": "center",
          "xref": "paper",
          "y": 1,
          "yanchor": "bottom",
          "yref": "paper"
         },
         {
          "font": {
           "size": 16
          },
          "showarrow": false,
          "text": "PasProg",
          "x": 0.5,
          "xanchor": "center",
          "xref": "paper",
          "y": 1,
          "yanchor": "bottom",
          "yref": "paper"
         },
         {
          "font": {
           "size": 16
          },
          "showarrow": false,
          "text": "TB",
          "x": 0.8555555555555556,
          "xanchor": "center",
          "xref": "paper",
          "y": 1,
          "yanchor": "bottom",
          "yref": "paper"
         }
        ],
        "showlegend": false,
        "template": {
         "data": {
          "bar": [
           {
            "error_x": {
             "color": "#2a3f5f"
            },
            "error_y": {
             "color": "#2a3f5f"
            },
            "marker": {
             "line": {
              "color": "#E5ECF6",
              "width": 0.5
             },
             "pattern": {
              "fillmode": "overlay",
              "size": 10,
              "solidity": 0.2
             }
            },
            "type": "bar"
           }
          ],
          "barpolar": [
           {
            "marker": {
             "line": {
              "color": "#E5ECF6",
              "width": 0.5
             },
             "pattern": {
              "fillmode": "overlay",
              "size": 10,
              "solidity": 0.2
             }
            },
            "type": "barpolar"
           }
          ],
          "carpet": [
           {
            "aaxis": {
             "endlinecolor": "#2a3f5f",
             "gridcolor": "white",
             "linecolor": "white",
             "minorgridcolor": "white",
             "startlinecolor": "#2a3f5f"
            },
            "baxis": {
             "endlinecolor": "#2a3f5f",
             "gridcolor": "white",
             "linecolor": "white",
             "minorgridcolor": "white",
             "startlinecolor": "#2a3f5f"
            },
            "type": "carpet"
           }
          ],
          "choropleth": [
           {
            "colorbar": {
             "outlinewidth": 0,
             "ticks": ""
            },
            "type": "choropleth"
           }
          ],
          "contour": [
           {
            "colorbar": {
             "outlinewidth": 0,
             "ticks": ""
            },
            "colorscale": [
             [
              0,
              "#0d0887"
             ],
             [
              0.1111111111111111,
              "#46039f"
             ],
             [
              0.2222222222222222,
              "#7201a8"
             ],
             [
              0.3333333333333333,
              "#9c179e"
             ],
             [
              0.4444444444444444,
              "#bd3786"
             ],
             [
              0.5555555555555556,
              "#d8576b"
             ],
             [
              0.6666666666666666,
              "#ed7953"
             ],
             [
              0.7777777777777778,
              "#fb9f3a"
             ],
             [
              0.8888888888888888,
              "#fdca26"
             ],
             [
              1,
              "#f0f921"
             ]
            ],
            "type": "contour"
           }
          ],
          "contourcarpet": [
           {
            "colorbar": {
             "outlinewidth": 0,
             "ticks": ""
            },
            "type": "contourcarpet"
           }
          ],
          "heatmap": [
           {
            "colorbar": {
             "outlinewidth": 0,
             "ticks": ""
            },
            "colorscale": [
             [
              0,
              "#0d0887"
             ],
             [
              0.1111111111111111,
              "#46039f"
             ],
             [
              0.2222222222222222,
              "#7201a8"
             ],
             [
              0.3333333333333333,
              "#9c179e"
             ],
             [
              0.4444444444444444,
              "#bd3786"
             ],
             [
              0.5555555555555556,
              "#d8576b"
             ],
             [
              0.6666666666666666,
              "#ed7953"
             ],
             [
              0.7777777777777778,
              "#fb9f3a"
             ],
             [
              0.8888888888888888,
              "#fdca26"
             ],
             [
              1,
              "#f0f921"
             ]
            ],
            "type": "heatmap"
           }
          ],
          "heatmapgl": [
           {
            "colorbar": {
             "outlinewidth": 0,
             "ticks": ""
            },
            "colorscale": [
             [
              0,
              "#0d0887"
             ],
             [
              0.1111111111111111,
              "#46039f"
             ],
             [
              0.2222222222222222,
              "#7201a8"
             ],
             [
              0.3333333333333333,
              "#9c179e"
             ],
             [
              0.4444444444444444,
              "#bd3786"
             ],
             [
              0.5555555555555556,
              "#d8576b"
             ],
             [
              0.6666666666666666,
              "#ed7953"
             ],
             [
              0.7777777777777778,
              "#fb9f3a"
             ],
             [
              0.8888888888888888,
              "#fdca26"
             ],
             [
              1,
              "#f0f921"
             ]
            ],
            "type": "heatmapgl"
           }
          ],
          "histogram": [
           {
            "marker": {
             "pattern": {
              "fillmode": "overlay",
              "size": 10,
              "solidity": 0.2
             }
            },
            "type": "histogram"
           }
          ],
          "histogram2d": [
           {
            "colorbar": {
             "outlinewidth": 0,
             "ticks": ""
            },
            "colorscale": [
             [
              0,
              "#0d0887"
             ],
             [
              0.1111111111111111,
              "#46039f"
             ],
             [
              0.2222222222222222,
              "#7201a8"
             ],
             [
              0.3333333333333333,
              "#9c179e"
             ],
             [
              0.4444444444444444,
              "#bd3786"
             ],
             [
              0.5555555555555556,
              "#d8576b"
             ],
             [
              0.6666666666666666,
              "#ed7953"
             ],
             [
              0.7777777777777778,
              "#fb9f3a"
             ],
             [
              0.8888888888888888,
              "#fdca26"
             ],
             [
              1,
              "#f0f921"
             ]
            ],
            "type": "histogram2d"
           }
          ],
          "histogram2dcontour": [
           {
            "colorbar": {
             "outlinewidth": 0,
             "ticks": ""
            },
            "colorscale": [
             [
              0,
              "#0d0887"
             ],
             [
              0.1111111111111111,
              "#46039f"
             ],
             [
              0.2222222222222222,
              "#7201a8"
             ],
             [
              0.3333333333333333,
              "#9c179e"
             ],
             [
              0.4444444444444444,
              "#bd3786"
             ],
             [
              0.5555555555555556,
              "#d8576b"
             ],
             [
              0.6666666666666666,
              "#ed7953"
             ],
             [
              0.7777777777777778,
              "#fb9f3a"
             ],
             [
              0.8888888888888888,
              "#fdca26"
             ],
             [
              1,
              "#f0f921"
             ]
            ],
            "type": "histogram2dcontour"
           }
          ],
          "mesh3d": [
           {
            "colorbar": {
             "outlinewidth": 0,
             "ticks": ""
            },
            "type": "mesh3d"
           }
          ],
          "parcoords": [
           {
            "line": {
             "colorbar": {
              "outlinewidth": 0,
              "ticks": ""
             }
            },
            "type": "parcoords"
           }
          ],
          "pie": [
           {
            "automargin": true,
            "type": "pie"
           }
          ],
          "scatter": [
           {
            "fillpattern": {
             "fillmode": "overlay",
             "size": 10,
             "solidity": 0.2
            },
            "type": "scatter"
           }
          ],
          "scatter3d": [
           {
            "line": {
             "colorbar": {
              "outlinewidth": 0,
              "ticks": ""
             }
            },
            "marker": {
             "colorbar": {
              "outlinewidth": 0,
              "ticks": ""
             }
            },
            "type": "scatter3d"
           }
          ],
          "scattercarpet": [
           {
            "marker": {
             "colorbar": {
              "outlinewidth": 0,
              "ticks": ""
             }
            },
            "type": "scattercarpet"
           }
          ],
          "scattergeo": [
           {
            "marker": {
             "colorbar": {
              "outlinewidth": 0,
              "ticks": ""
             }
            },
            "type": "scattergeo"
           }
          ],
          "scattergl": [
           {
            "marker": {
             "colorbar": {
              "outlinewidth": 0,
              "ticks": ""
             }
            },
            "type": "scattergl"
           }
          ],
          "scattermapbox": [
           {
            "marker": {
             "colorbar": {
              "outlinewidth": 0,
              "ticks": ""
             }
            },
            "type": "scattermapbox"
           }
          ],
          "scatterpolar": [
           {
            "marker": {
             "colorbar": {
              "outlinewidth": 0,
              "ticks": ""
             }
            },
            "type": "scatterpolar"
           }
          ],
          "scatterpolargl": [
           {
            "marker": {
             "colorbar": {
              "outlinewidth": 0,
              "ticks": ""
             }
            },
            "type": "scatterpolargl"
           }
          ],
          "scatterternary": [
           {
            "marker": {
             "colorbar": {
              "outlinewidth": 0,
              "ticks": ""
             }
            },
            "type": "scatterternary"
           }
          ],
          "surface": [
           {
            "colorbar": {
             "outlinewidth": 0,
             "ticks": ""
            },
            "colorscale": [
             [
              0,
              "#0d0887"
             ],
             [
              0.1111111111111111,
              "#46039f"
             ],
             [
              0.2222222222222222,
              "#7201a8"
             ],
             [
              0.3333333333333333,
              "#9c179e"
             ],
             [
              0.4444444444444444,
              "#bd3786"
             ],
             [
              0.5555555555555556,
              "#d8576b"
             ],
             [
              0.6666666666666666,
              "#ed7953"
             ],
             [
              0.7777777777777778,
              "#fb9f3a"
             ],
             [
              0.8888888888888888,
              "#fdca26"
             ],
             [
              1,
              "#f0f921"
             ]
            ],
            "type": "surface"
           }
          ],
          "table": [
           {
            "cells": {
             "fill": {
              "color": "#EBF0F8"
             },
             "line": {
              "color": "white"
             }
            },
            "header": {
             "fill": {
              "color": "#C8D4E3"
             },
             "line": {
              "color": "white"
             }
            },
            "type": "table"
           }
          ]
         },
         "layout": {
          "annotationdefaults": {
           "arrowcolor": "#2a3f5f",
           "arrowhead": 0,
           "arrowwidth": 1
          },
          "autotypenumbers": "strict",
          "coloraxis": {
           "colorbar": {
            "outlinewidth": 0,
            "ticks": ""
           }
          },
          "colorscale": {
           "diverging": [
            [
             0,
             "#8e0152"
            ],
            [
             0.1,
             "#c51b7d"
            ],
            [
             0.2,
             "#de77ae"
            ],
            [
             0.3,
             "#f1b6da"
            ],
            [
             0.4,
             "#fde0ef"
            ],
            [
             0.5,
             "#f7f7f7"
            ],
            [
             0.6,
             "#e6f5d0"
            ],
            [
             0.7,
             "#b8e186"
            ],
            [
             0.8,
             "#7fbc41"
            ],
            [
             0.9,
             "#4d9221"
            ],
            [
             1,
             "#276419"
            ]
           ],
           "sequential": [
            [
             0,
             "#0d0887"
            ],
            [
             0.1111111111111111,
             "#46039f"
            ],
            [
             0.2222222222222222,
             "#7201a8"
            ],
            [
             0.3333333333333333,
             "#9c179e"
            ],
            [
             0.4444444444444444,
             "#bd3786"
            ],
            [
             0.5555555555555556,
             "#d8576b"
            ],
            [
             0.6666666666666666,
             "#ed7953"
            ],
            [
             0.7777777777777778,
             "#fb9f3a"
            ],
            [
             0.8888888888888888,
             "#fdca26"
            ],
            [
             1,
             "#f0f921"
            ]
           ],
           "sequentialminus": [
            [
             0,
             "#0d0887"
            ],
            [
             0.1111111111111111,
             "#46039f"
            ],
            [
             0.2222222222222222,
             "#7201a8"
            ],
            [
             0.3333333333333333,
             "#9c179e"
            ],
            [
             0.4444444444444444,
             "#bd3786"
            ],
            [
             0.5555555555555556,
             "#d8576b"
            ],
            [
             0.6666666666666666,
             "#ed7953"
            ],
            [
             0.7777777777777778,
             "#fb9f3a"
            ],
            [
             0.8888888888888888,
             "#fdca26"
            ],
            [
             1,
             "#f0f921"
            ]
           ]
          },
          "colorway": [
           "#636efa",
           "#EF553B",
           "#00cc96",
           "#ab63fa",
           "#FFA15A",
           "#19d3f3",
           "#FF6692",
           "#B6E880",
           "#FF97FF",
           "#FECB52"
          ],
          "font": {
           "color": "#2a3f5f"
          },
          "geo": {
           "bgcolor": "white",
           "lakecolor": "white",
           "landcolor": "#E5ECF6",
           "showlakes": true,
           "showland": true,
           "subunitcolor": "white"
          },
          "hoverlabel": {
           "align": "left"
          },
          "hovermode": "closest",
          "mapbox": {
           "style": "light"
          },
          "paper_bgcolor": "white",
          "plot_bgcolor": "#E5ECF6",
          "polar": {
           "angularaxis": {
            "gridcolor": "white",
            "linecolor": "white",
            "ticks": ""
           },
           "bgcolor": "#E5ECF6",
           "radialaxis": {
            "gridcolor": "white",
            "linecolor": "white",
            "ticks": ""
           }
          },
          "scene": {
           "xaxis": {
            "backgroundcolor": "#E5ECF6",
            "gridcolor": "white",
            "gridwidth": 2,
            "linecolor": "white",
            "showbackground": true,
            "ticks": "",
            "zerolinecolor": "white"
           },
           "yaxis": {
            "backgroundcolor": "#E5ECF6",
            "gridcolor": "white",
            "gridwidth": 2,
            "linecolor": "white",
            "showbackground": true,
            "ticks": "",
            "zerolinecolor": "white"
           },
           "zaxis": {
            "backgroundcolor": "#E5ECF6",
            "gridcolor": "white",
            "gridwidth": 2,
            "linecolor": "white",
            "showbackground": true,
            "ticks": "",
            "zerolinecolor": "white"
           }
          },
          "shapedefaults": {
           "line": {
            "color": "#2a3f5f"
           }
          },
          "ternary": {
           "aaxis": {
            "gridcolor": "white",
            "linecolor": "white",
            "ticks": ""
           },
           "baxis": {
            "gridcolor": "white",
            "linecolor": "white",
            "ticks": ""
           },
           "bgcolor": "#E5ECF6",
           "caxis": {
            "gridcolor": "white",
            "linecolor": "white",
            "ticks": ""
           }
          },
          "title": {
           "x": 0.05
          },
          "xaxis": {
           "automargin": true,
           "gridcolor": "white",
           "linecolor": "white",
           "ticks": "",
           "title": {
            "standoff": 15
           },
           "zerolinecolor": "white",
           "zerolinewidth": 2
          },
          "yaxis": {
           "automargin": true,
           "gridcolor": "white",
           "linecolor": "white",
           "ticks": "",
           "title": {
            "standoff": 15
           },
           "zerolinecolor": "white",
           "zerolinewidth": 2
          }
         }
        },
        "title": {
         "text": "Comparaison des attributs des joueurs"
        },
        "xaxis": {
         "anchor": "y",
         "domain": [
          0,
          0.2888888888888889
         ]
        },
        "xaxis2": {
         "anchor": "y2",
         "domain": [
          0.35555555555555557,
          0.6444444444444445
         ]
        },
        "xaxis3": {
         "anchor": "y3",
         "domain": [
          0.7111111111111111,
          1
         ]
        },
        "yaxis": {
         "anchor": "x",
         "autorange": "reversed",
         "domain": [
          0,
          1
         ],
         "showticklabels": false
        },
        "yaxis2": {
         "anchor": "x2",
         "autorange": "reversed",
         "domain": [
          0,
          1
         ],
         "showticklabels": false
        },
        "yaxis3": {
         "anchor": "x3",
         "autorange": "reversed",
         "domain": [
          0,
          1
         ],
         "showticklabels": false
        }
       }
      }
     },
     "metadata": {},
     "output_type": "display_data"
    }
   ],
   "source": [
    "# Créez une figure avec des sous-graphes\n",
    "fig = make_subplots(rows=1, cols=len(conditions), subplot_titles=[condition[0] for condition in conditions])\n",
    "\n",
    "# Pour chaque condition, créez un graphique en barres horizontales\n",
    "for i, condition in enumerate(conditions):\n",
    "    attribute = condition[0]\n",
    "    \n",
    "    # Créez le graphique en barres horizontales\n",
    "    bar = go.Bar(\n",
    "        x=df_final_filtered[attribute],\n",
    "        y=df_final_filtered['Player'],\n",
    "        orientation='h',\n",
    "        text=df_final_filtered['Player'],\n",
    "        hoverinfo='text'\n",
    "    )\n",
    "    \n",
    "    # Ajouter le graphique à la figure\n",
    "    fig.add_trace(bar, row=1, col=i+1)\n",
    "    \n",
    "    # Définir les axes et le titre pour chaque sous-graphe\n",
    "    fig.update_xaxes(row=1, col=i+1)\n",
    "    fig.update_yaxes(row=1, col=i+1, autorange='reversed', showticklabels=False)\n",
    "\n",
    "# Ajustez l'espacement entre les graphiques et ajoutez un titre global\n",
    "fig.update_layout(title_text=\"Comparaison des attributs des joueurs\", showlegend=False)\n",
    "fig.show()"
   ]
  },
  {
   "cell_type": "code",
   "execution_count": 21,
   "metadata": {},
   "outputs": [
    {
     "data": {
      "application/vnd.plotly.v1+json": {
       "config": {
        "plotlyServerURL": "https://plot.ly"
       },
       "data": [
        {
         "hoverinfo": "text",
         "marker": {
          "opacity": 0.75,
          "size": 10
         },
         "mode": "markers+text",
         "text": [
          "Rayan Cherki",
          "Dominik Szoboszlai",
          "Arne Engels",
          "Florian Wirtz",
          "Callum Hudson-Odoi",
          "Cristian Volpato",
          "Pedri",
          "Maxence Caqueret",
          "David Pereira da Costa",
          "Kamory Doumbia",
          "Eduardo Camavinga",
          "Harvey Elliott"
         ],
         "textposition": "top center",
         "type": "scatter",
         "x": [
          7.27,
          5.27,
          6.17,
          7.1,
          4.92,
          7.14,
          8.3,
          7.06,
          6.79,
          6.16,
          8.04,
          6.98
         ],
         "xaxis": "x",
         "y": [
          5.06,
          2.6,
          2.55,
          2.26,
          2.13,
          1.9,
          1.87,
          1.84,
          1.75,
          1.52,
          1.27,
          1.27
         ],
         "yaxis": "y"
        },
        {
         "hoverinfo": "text",
         "marker": {
          "opacity": 0.75,
          "size": 10
         },
         "mode": "markers+text",
         "text": [
          "Rayan Cherki",
          "Dominik Szoboszlai",
          "Arne Engels",
          "Florian Wirtz",
          "Callum Hudson-Odoi",
          "Cristian Volpato",
          "Pedri",
          "Maxence Caqueret",
          "David Pereira da Costa",
          "Kamory Doumbia",
          "Eduardo Camavinga",
          "Harvey Elliott"
         ],
         "textposition": "top center",
         "type": "scatter",
         "x": [
          0.39,
          0.67,
          0.21,
          1.61,
          0.16,
          0.48,
          0.94,
          0.25,
          0.15,
          0.3,
          0.2,
          0.32
         ],
         "xaxis": "x2",
         "y": [
          5.06,
          2.6,
          2.55,
          2.26,
          2.13,
          1.9,
          1.87,
          1.84,
          1.75,
          1.52,
          1.27,
          1.27
         ],
         "yaxis": "y2"
        },
        {
         "hoverinfo": "text",
         "marker": {
          "opacity": 0.75,
          "size": 10
         },
         "mode": "markers+text",
         "text": [
          "Rayan Cherki",
          "Dominik Szoboszlai",
          "Arne Engels",
          "Florian Wirtz",
          "Callum Hudson-Odoi",
          "Cristian Volpato",
          "Pedri",
          "Maxence Caqueret",
          "David Pereira da Costa",
          "Kamory Doumbia",
          "Eduardo Camavinga",
          "Harvey Elliott"
         ],
         "textposition": "top center",
         "type": "scatter",
         "x": [
          0.39,
          0.67,
          0.21,
          1.61,
          0.16,
          0.48,
          0.94,
          0.25,
          0.15,
          0.3,
          0.2,
          0.32
         ],
         "xaxis": "x3",
         "y": [
          7.27,
          5.27,
          6.17,
          7.1,
          4.92,
          7.14,
          8.3,
          7.06,
          6.79,
          6.16,
          8.04,
          6.98
         ],
         "yaxis": "y3"
        }
       ],
       "layout": {
        "annotations": [
         {
          "font": {
           "size": 16
          },
          "showarrow": false,
          "text": "PasAss vs PasProg",
          "x": 0.14444444444444446,
          "xanchor": "center",
          "xref": "paper",
          "y": 1,
          "yanchor": "bottom",
          "yref": "paper"
         },
         {
          "font": {
           "size": 16
          },
          "showarrow": false,
          "text": "PasAss vs TB",
          "x": 0.5,
          "xanchor": "center",
          "xref": "paper",
          "y": 1,
          "yanchor": "bottom",
          "yref": "paper"
         },
         {
          "font": {
           "size": 16
          },
          "showarrow": false,
          "text": "PasProg vs TB",
          "x": 0.8555555555555556,
          "xanchor": "center",
          "xref": "paper",
          "y": 1,
          "yanchor": "bottom",
          "yref": "paper"
         }
        ],
        "showlegend": false,
        "template": {
         "data": {
          "bar": [
           {
            "error_x": {
             "color": "#2a3f5f"
            },
            "error_y": {
             "color": "#2a3f5f"
            },
            "marker": {
             "line": {
              "color": "#E5ECF6",
              "width": 0.5
             },
             "pattern": {
              "fillmode": "overlay",
              "size": 10,
              "solidity": 0.2
             }
            },
            "type": "bar"
           }
          ],
          "barpolar": [
           {
            "marker": {
             "line": {
              "color": "#E5ECF6",
              "width": 0.5
             },
             "pattern": {
              "fillmode": "overlay",
              "size": 10,
              "solidity": 0.2
             }
            },
            "type": "barpolar"
           }
          ],
          "carpet": [
           {
            "aaxis": {
             "endlinecolor": "#2a3f5f",
             "gridcolor": "white",
             "linecolor": "white",
             "minorgridcolor": "white",
             "startlinecolor": "#2a3f5f"
            },
            "baxis": {
             "endlinecolor": "#2a3f5f",
             "gridcolor": "white",
             "linecolor": "white",
             "minorgridcolor": "white",
             "startlinecolor": "#2a3f5f"
            },
            "type": "carpet"
           }
          ],
          "choropleth": [
           {
            "colorbar": {
             "outlinewidth": 0,
             "ticks": ""
            },
            "type": "choropleth"
           }
          ],
          "contour": [
           {
            "colorbar": {
             "outlinewidth": 0,
             "ticks": ""
            },
            "colorscale": [
             [
              0,
              "#0d0887"
             ],
             [
              0.1111111111111111,
              "#46039f"
             ],
             [
              0.2222222222222222,
              "#7201a8"
             ],
             [
              0.3333333333333333,
              "#9c179e"
             ],
             [
              0.4444444444444444,
              "#bd3786"
             ],
             [
              0.5555555555555556,
              "#d8576b"
             ],
             [
              0.6666666666666666,
              "#ed7953"
             ],
             [
              0.7777777777777778,
              "#fb9f3a"
             ],
             [
              0.8888888888888888,
              "#fdca26"
             ],
             [
              1,
              "#f0f921"
             ]
            ],
            "type": "contour"
           }
          ],
          "contourcarpet": [
           {
            "colorbar": {
             "outlinewidth": 0,
             "ticks": ""
            },
            "type": "contourcarpet"
           }
          ],
          "heatmap": [
           {
            "colorbar": {
             "outlinewidth": 0,
             "ticks": ""
            },
            "colorscale": [
             [
              0,
              "#0d0887"
             ],
             [
              0.1111111111111111,
              "#46039f"
             ],
             [
              0.2222222222222222,
              "#7201a8"
             ],
             [
              0.3333333333333333,
              "#9c179e"
             ],
             [
              0.4444444444444444,
              "#bd3786"
             ],
             [
              0.5555555555555556,
              "#d8576b"
             ],
             [
              0.6666666666666666,
              "#ed7953"
             ],
             [
              0.7777777777777778,
              "#fb9f3a"
             ],
             [
              0.8888888888888888,
              "#fdca26"
             ],
             [
              1,
              "#f0f921"
             ]
            ],
            "type": "heatmap"
           }
          ],
          "heatmapgl": [
           {
            "colorbar": {
             "outlinewidth": 0,
             "ticks": ""
            },
            "colorscale": [
             [
              0,
              "#0d0887"
             ],
             [
              0.1111111111111111,
              "#46039f"
             ],
             [
              0.2222222222222222,
              "#7201a8"
             ],
             [
              0.3333333333333333,
              "#9c179e"
             ],
             [
              0.4444444444444444,
              "#bd3786"
             ],
             [
              0.5555555555555556,
              "#d8576b"
             ],
             [
              0.6666666666666666,
              "#ed7953"
             ],
             [
              0.7777777777777778,
              "#fb9f3a"
             ],
             [
              0.8888888888888888,
              "#fdca26"
             ],
             [
              1,
              "#f0f921"
             ]
            ],
            "type": "heatmapgl"
           }
          ],
          "histogram": [
           {
            "marker": {
             "pattern": {
              "fillmode": "overlay",
              "size": 10,
              "solidity": 0.2
             }
            },
            "type": "histogram"
           }
          ],
          "histogram2d": [
           {
            "colorbar": {
             "outlinewidth": 0,
             "ticks": ""
            },
            "colorscale": [
             [
              0,
              "#0d0887"
             ],
             [
              0.1111111111111111,
              "#46039f"
             ],
             [
              0.2222222222222222,
              "#7201a8"
             ],
             [
              0.3333333333333333,
              "#9c179e"
             ],
             [
              0.4444444444444444,
              "#bd3786"
             ],
             [
              0.5555555555555556,
              "#d8576b"
             ],
             [
              0.6666666666666666,
              "#ed7953"
             ],
             [
              0.7777777777777778,
              "#fb9f3a"
             ],
             [
              0.8888888888888888,
              "#fdca26"
             ],
             [
              1,
              "#f0f921"
             ]
            ],
            "type": "histogram2d"
           }
          ],
          "histogram2dcontour": [
           {
            "colorbar": {
             "outlinewidth": 0,
             "ticks": ""
            },
            "colorscale": [
             [
              0,
              "#0d0887"
             ],
             [
              0.1111111111111111,
              "#46039f"
             ],
             [
              0.2222222222222222,
              "#7201a8"
             ],
             [
              0.3333333333333333,
              "#9c179e"
             ],
             [
              0.4444444444444444,
              "#bd3786"
             ],
             [
              0.5555555555555556,
              "#d8576b"
             ],
             [
              0.6666666666666666,
              "#ed7953"
             ],
             [
              0.7777777777777778,
              "#fb9f3a"
             ],
             [
              0.8888888888888888,
              "#fdca26"
             ],
             [
              1,
              "#f0f921"
             ]
            ],
            "type": "histogram2dcontour"
           }
          ],
          "mesh3d": [
           {
            "colorbar": {
             "outlinewidth": 0,
             "ticks": ""
            },
            "type": "mesh3d"
           }
          ],
          "parcoords": [
           {
            "line": {
             "colorbar": {
              "outlinewidth": 0,
              "ticks": ""
             }
            },
            "type": "parcoords"
           }
          ],
          "pie": [
           {
            "automargin": true,
            "type": "pie"
           }
          ],
          "scatter": [
           {
            "fillpattern": {
             "fillmode": "overlay",
             "size": 10,
             "solidity": 0.2
            },
            "type": "scatter"
           }
          ],
          "scatter3d": [
           {
            "line": {
             "colorbar": {
              "outlinewidth": 0,
              "ticks": ""
             }
            },
            "marker": {
             "colorbar": {
              "outlinewidth": 0,
              "ticks": ""
             }
            },
            "type": "scatter3d"
           }
          ],
          "scattercarpet": [
           {
            "marker": {
             "colorbar": {
              "outlinewidth": 0,
              "ticks": ""
             }
            },
            "type": "scattercarpet"
           }
          ],
          "scattergeo": [
           {
            "marker": {
             "colorbar": {
              "outlinewidth": 0,
              "ticks": ""
             }
            },
            "type": "scattergeo"
           }
          ],
          "scattergl": [
           {
            "marker": {
             "colorbar": {
              "outlinewidth": 0,
              "ticks": ""
             }
            },
            "type": "scattergl"
           }
          ],
          "scattermapbox": [
           {
            "marker": {
             "colorbar": {
              "outlinewidth": 0,
              "ticks": ""
             }
            },
            "type": "scattermapbox"
           }
          ],
          "scatterpolar": [
           {
            "marker": {
             "colorbar": {
              "outlinewidth": 0,
              "ticks": ""
             }
            },
            "type": "scatterpolar"
           }
          ],
          "scatterpolargl": [
           {
            "marker": {
             "colorbar": {
              "outlinewidth": 0,
              "ticks": ""
             }
            },
            "type": "scatterpolargl"
           }
          ],
          "scatterternary": [
           {
            "marker": {
             "colorbar": {
              "outlinewidth": 0,
              "ticks": ""
             }
            },
            "type": "scatterternary"
           }
          ],
          "surface": [
           {
            "colorbar": {
             "outlinewidth": 0,
             "ticks": ""
            },
            "colorscale": [
             [
              0,
              "#0d0887"
             ],
             [
              0.1111111111111111,
              "#46039f"
             ],
             [
              0.2222222222222222,
              "#7201a8"
             ],
             [
              0.3333333333333333,
              "#9c179e"
             ],
             [
              0.4444444444444444,
              "#bd3786"
             ],
             [
              0.5555555555555556,
              "#d8576b"
             ],
             [
              0.6666666666666666,
              "#ed7953"
             ],
             [
              0.7777777777777778,
              "#fb9f3a"
             ],
             [
              0.8888888888888888,
              "#fdca26"
             ],
             [
              1,
              "#f0f921"
             ]
            ],
            "type": "surface"
           }
          ],
          "table": [
           {
            "cells": {
             "fill": {
              "color": "#EBF0F8"
             },
             "line": {
              "color": "white"
             }
            },
            "header": {
             "fill": {
              "color": "#C8D4E3"
             },
             "line": {
              "color": "white"
             }
            },
            "type": "table"
           }
          ]
         },
         "layout": {
          "annotationdefaults": {
           "arrowcolor": "#2a3f5f",
           "arrowhead": 0,
           "arrowwidth": 1
          },
          "autotypenumbers": "strict",
          "coloraxis": {
           "colorbar": {
            "outlinewidth": 0,
            "ticks": ""
           }
          },
          "colorscale": {
           "diverging": [
            [
             0,
             "#8e0152"
            ],
            [
             0.1,
             "#c51b7d"
            ],
            [
             0.2,
             "#de77ae"
            ],
            [
             0.3,
             "#f1b6da"
            ],
            [
             0.4,
             "#fde0ef"
            ],
            [
             0.5,
             "#f7f7f7"
            ],
            [
             0.6,
             "#e6f5d0"
            ],
            [
             0.7,
             "#b8e186"
            ],
            [
             0.8,
             "#7fbc41"
            ],
            [
             0.9,
             "#4d9221"
            ],
            [
             1,
             "#276419"
            ]
           ],
           "sequential": [
            [
             0,
             "#0d0887"
            ],
            [
             0.1111111111111111,
             "#46039f"
            ],
            [
             0.2222222222222222,
             "#7201a8"
            ],
            [
             0.3333333333333333,
             "#9c179e"
            ],
            [
             0.4444444444444444,
             "#bd3786"
            ],
            [
             0.5555555555555556,
             "#d8576b"
            ],
            [
             0.6666666666666666,
             "#ed7953"
            ],
            [
             0.7777777777777778,
             "#fb9f3a"
            ],
            [
             0.8888888888888888,
             "#fdca26"
            ],
            [
             1,
             "#f0f921"
            ]
           ],
           "sequentialminus": [
            [
             0,
             "#0d0887"
            ],
            [
             0.1111111111111111,
             "#46039f"
            ],
            [
             0.2222222222222222,
             "#7201a8"
            ],
            [
             0.3333333333333333,
             "#9c179e"
            ],
            [
             0.4444444444444444,
             "#bd3786"
            ],
            [
             0.5555555555555556,
             "#d8576b"
            ],
            [
             0.6666666666666666,
             "#ed7953"
            ],
            [
             0.7777777777777778,
             "#fb9f3a"
            ],
            [
             0.8888888888888888,
             "#fdca26"
            ],
            [
             1,
             "#f0f921"
            ]
           ]
          },
          "colorway": [
           "#636efa",
           "#EF553B",
           "#00cc96",
           "#ab63fa",
           "#FFA15A",
           "#19d3f3",
           "#FF6692",
           "#B6E880",
           "#FF97FF",
           "#FECB52"
          ],
          "font": {
           "color": "#2a3f5f"
          },
          "geo": {
           "bgcolor": "white",
           "lakecolor": "white",
           "landcolor": "#E5ECF6",
           "showlakes": true,
           "showland": true,
           "subunitcolor": "white"
          },
          "hoverlabel": {
           "align": "left"
          },
          "hovermode": "closest",
          "mapbox": {
           "style": "light"
          },
          "paper_bgcolor": "white",
          "plot_bgcolor": "#E5ECF6",
          "polar": {
           "angularaxis": {
            "gridcolor": "white",
            "linecolor": "white",
            "ticks": ""
           },
           "bgcolor": "#E5ECF6",
           "radialaxis": {
            "gridcolor": "white",
            "linecolor": "white",
            "ticks": ""
           }
          },
          "scene": {
           "xaxis": {
            "backgroundcolor": "#E5ECF6",
            "gridcolor": "white",
            "gridwidth": 2,
            "linecolor": "white",
            "showbackground": true,
            "ticks": "",
            "zerolinecolor": "white"
           },
           "yaxis": {
            "backgroundcolor": "#E5ECF6",
            "gridcolor": "white",
            "gridwidth": 2,
            "linecolor": "white",
            "showbackground": true,
            "ticks": "",
            "zerolinecolor": "white"
           },
           "zaxis": {
            "backgroundcolor": "#E5ECF6",
            "gridcolor": "white",
            "gridwidth": 2,
            "linecolor": "white",
            "showbackground": true,
            "ticks": "",
            "zerolinecolor": "white"
           }
          },
          "shapedefaults": {
           "line": {
            "color": "#2a3f5f"
           }
          },
          "ternary": {
           "aaxis": {
            "gridcolor": "white",
            "linecolor": "white",
            "ticks": ""
           },
           "baxis": {
            "gridcolor": "white",
            "linecolor": "white",
            "ticks": ""
           },
           "bgcolor": "#E5ECF6",
           "caxis": {
            "gridcolor": "white",
            "linecolor": "white",
            "ticks": ""
           }
          },
          "title": {
           "x": 0.05
          },
          "xaxis": {
           "automargin": true,
           "gridcolor": "white",
           "linecolor": "white",
           "ticks": "",
           "title": {
            "standoff": 15
           },
           "zerolinecolor": "white",
           "zerolinewidth": 2
          },
          "yaxis": {
           "automargin": true,
           "gridcolor": "white",
           "linecolor": "white",
           "ticks": "",
           "title": {
            "standoff": 15
           },
           "zerolinecolor": "white",
           "zerolinewidth": 2
          }
         }
        },
        "title": {
         "text": "Comparaison des attributs des joueurs"
        },
        "xaxis": {
         "anchor": "y",
         "domain": [
          0,
          0.2888888888888889
         ],
         "title": {
          "text": "PasProg"
         }
        },
        "xaxis2": {
         "anchor": "y2",
         "domain": [
          0.35555555555555557,
          0.6444444444444445
         ],
         "title": {
          "text": "TB"
         }
        },
        "xaxis3": {
         "anchor": "y3",
         "domain": [
          0.7111111111111111,
          1
         ],
         "title": {
          "text": "TB"
         }
        },
        "yaxis": {
         "anchor": "x",
         "domain": [
          0,
          1
         ],
         "title": {
          "text": "PasAss"
         }
        },
        "yaxis2": {
         "anchor": "x2",
         "domain": [
          0,
          1
         ],
         "title": {
          "text": "PasAss"
         }
        },
        "yaxis3": {
         "anchor": "x3",
         "domain": [
          0,
          1
         ],
         "title": {
          "text": "PasProg"
         }
        }
       }
      }
     },
     "metadata": {},
     "output_type": "display_data"
    }
   ],
   "source": [
    "# Calcul du nombre de combinaisons possibles\n",
    "num_combinations = len(list(itertools.combinations(conditions, 2)))\n",
    "\n",
    "if num_combinations == 0:\n",
    "    print(\"Il n'y a pas assez de conditions pour comparer les attributs des joueurs.\")\n",
    "else:\n",
    "    # Créez une figure avec des sous-graphes\n",
    "    fig = make_subplots(rows=1, cols=num_combinations, subplot_titles=[f'{condition1[0]} vs {condition2[0]}' for condition1, condition2 in itertools.combinations(conditions, 2)])\n",
    "\n",
    "    # Liste pour stocker les paires de conditions déjà traitées\n",
    "    pairs_processed = []\n",
    "\n",
    "    # Pour chaque paire de conditions\n",
    "    for idx, (condition1, condition2) in enumerate(itertools.combinations(conditions, 2)):\n",
    "        if condition1[0] != condition2[0]:  # Vérifiez que les conditions ne sont pas identiques\n",
    "            pair = tuple(sorted([condition1, condition2]))  # Triez les conditions dans l'ordre alphabétique\n",
    "            if pair not in pairs_processed:  # Vérifiez si la paire ou son miroir ont déjà été traités\n",
    "                pairs_processed.append(pair)\n",
    "                attr1, attr2 = condition1[0], condition2[0]\n",
    "                \n",
    "                # Créez le graphique de dispersion\n",
    "                scatter = go.Scatter(\n",
    "                    x=df_final_filtered[attr2],\n",
    "                    y=df_final_filtered[attr1],\n",
    "                    mode='markers+text',\n",
    "                    text=df_final_filtered['Player'],\n",
    "                    textposition='top center',\n",
    "                    hoverinfo='text',\n",
    "                    marker=dict(size=10, opacity=0.75)\n",
    "                )\n",
    "                \n",
    "                # Ajouter le graphique à la figure\n",
    "                fig.add_trace(scatter, row=1, col=idx+1)\n",
    "                \n",
    "                # Définir les axes et le titre pour chaque sous-graphe\n",
    "                fig.update_xaxes(title_text=attr2, row=1, col=idx+1)\n",
    "                fig.update_yaxes(title_text=attr1, row=1, col=idx+1)\n",
    "\n",
    "    # Ajustez l'espacement entre les graphiques et ajoutez un titre global\n",
    "    fig.update_layout(title_text=\"Comparaison des attributs des joueurs\", showlegend=False)\n",
    "    fig.show()"
   ]
  },
  {
   "cell_type": "code",
   "execution_count": null,
   "metadata": {},
   "outputs": [],
   "source": []
  }
 ],
 "metadata": {
  "kernelspec": {
   "display_name": "Python 3",
   "language": "python",
   "name": "python3"
  },
  "language_info": {
   "codemirror_mode": {
    "name": "ipython",
    "version": 3
   },
   "file_extension": ".py",
   "mimetype": "text/x-python",
   "name": "python",
   "nbconvert_exporter": "python",
   "pygments_lexer": "ipython3",
   "version": "3.10.12"
  }
 },
 "nbformat": 4,
 "nbformat_minor": 2
}
