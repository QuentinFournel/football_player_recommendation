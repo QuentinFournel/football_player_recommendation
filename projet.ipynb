{
 "cells": [
  {
   "cell_type": "markdown",
   "source": [
    "# Football Data"
   ],
   "metadata": {
    "collapsed": false
   },
   "id": "27029889f1ad613d"
  },
  {
   "cell_type": "code",
   "outputs": [
    {
     "data": {
      "text/plain": "                     Player  Value (in €)\n0            Miroslav Klose     1000000.0\n23       Roman Weidenfeller      750000.0\n50         Dimitar Berbatov     1000000.0\n78                   LÃºcio      200000.0\n100              Tom Starke      100000.0\n...                     ...           ...\n465225       Bakary Haidara      350000.0\n465227  Franciszek Franczak       75000.0\n465228       Ozan DemirbaÄ       50000.0\n465229   Sid Ahmed Aissaoui      150000.0\n465230        Erdem ÃalÄ±k       50000.0\n\n[29345 rows x 2 columns]",
      "text/html": "<div>\n<style scoped>\n    .dataframe tbody tr th:only-of-type {\n        vertical-align: middle;\n    }\n\n    .dataframe tbody tr th {\n        vertical-align: top;\n    }\n\n    .dataframe thead th {\n        text-align: right;\n    }\n</style>\n<table border=\"1\" class=\"dataframe\">\n  <thead>\n    <tr style=\"text-align: right;\">\n      <th></th>\n      <th>Player</th>\n      <th>Value (in €)</th>\n    </tr>\n  </thead>\n  <tbody>\n    <tr>\n      <th>0</th>\n      <td>Miroslav Klose</td>\n      <td>1000000.0</td>\n    </tr>\n    <tr>\n      <th>23</th>\n      <td>Roman Weidenfeller</td>\n      <td>750000.0</td>\n    </tr>\n    <tr>\n      <th>50</th>\n      <td>Dimitar Berbatov</td>\n      <td>1000000.0</td>\n    </tr>\n    <tr>\n      <th>78</th>\n      <td>LÃºcio</td>\n      <td>200000.0</td>\n    </tr>\n    <tr>\n      <th>100</th>\n      <td>Tom Starke</td>\n      <td>100000.0</td>\n    </tr>\n    <tr>\n      <th>...</th>\n      <td>...</td>\n      <td>...</td>\n    </tr>\n    <tr>\n      <th>465225</th>\n      <td>Bakary Haidara</td>\n      <td>350000.0</td>\n    </tr>\n    <tr>\n      <th>465227</th>\n      <td>Franciszek Franczak</td>\n      <td>75000.0</td>\n    </tr>\n    <tr>\n      <th>465228</th>\n      <td>Ozan DemirbaÄ</td>\n      <td>50000.0</td>\n    </tr>\n    <tr>\n      <th>465229</th>\n      <td>Sid Ahmed Aissaoui</td>\n      <td>150000.0</td>\n    </tr>\n    <tr>\n      <th>465230</th>\n      <td>Erdem ÃalÄ±k</td>\n      <td>50000.0</td>\n    </tr>\n  </tbody>\n</table>\n<p>29345 rows × 2 columns</p>\n</div>"
     },
     "execution_count": 30,
     "metadata": {},
     "output_type": "execute_result"
    }
   ],
   "source": [
    "import pandas as pd\n",
    "\n",
    "players = pd.read_csv('dataset/players.csv', encoding='latin1', delimiter=',')\n",
    "\n",
    "valuations = pd.read_csv('dataset/player_valuations.csv', encoding='latin1', delimiter=',')\n",
    "\n",
    "value_df = pd.merge(players, valuations, on='player_id')\n",
    "\n",
    "value_df = value_df.drop_duplicates(subset=['player_id'])\n",
    "\n",
    "value_df = value_df[['name', 'market_value_in_eur_x']]\n",
    "\n",
    "value_df = value_df.rename(columns={'name': 'Player', 'market_value_in_eur_x': 'Value (in €)'})\n",
    "\n",
    "value_df"
   ],
   "metadata": {
    "collapsed": false,
    "ExecuteTime": {
     "end_time": "2024-03-08T09:06:22.540689Z",
     "start_time": "2024-03-08T09:06:21.688203Z"
    }
   },
   "id": "8a427e8260eb337b",
   "execution_count": 30
  },
  {
   "cell_type": "code",
   "execution_count": 31,
   "id": "initial_id",
   "metadata": {
    "collapsed": true,
    "ExecuteTime": {
     "end_time": "2024-03-08T09:06:22.588126Z",
     "start_time": "2024-03-08T09:06:22.542196Z"
    }
   },
   "outputs": [
    {
     "name": "stdout",
     "output_type": "stream",
     "text": [
      "(2689, 124)\n"
     ]
    },
    {
     "data": {
      "text/plain": "   Rk             Player Nation   Pos         Squad            Comp  Age  \\\n0   1   Brenden Aaronson    USA  MFFW  Leeds United  Premier League   22   \n1   2   Yunis Abdelhamid    MAR    DF         Reims         Ligue 1   35   \n2   3      Himad Abdelli    FRA  MFFW        Angers         Ligue 1   23   \n3   4  Salis Abdul Samed    GHA    MF          Lens         Ligue 1   22   \n4   5    Laurent Abergel    FRA    MF       Lorient         Ligue 1   30   \n\n   Born  MP  Starts  ...   Off   Crs  TklW  PKwon  PKcon    OG  Recov  AerWon  \\\n0  2000  20      19  ...  0.17  2.54  0.51    0.0    0.0  0.00   4.86    0.34   \n1  1987  22      22  ...  0.05  0.18  1.59    0.0    0.0  0.00   6.64    2.18   \n2  1999  14       8  ...  0.00  1.05  1.40    0.0    0.0  0.00   8.14    0.93   \n3  2000  20      20  ...  0.00  0.35  0.80    0.0    0.0  0.05   6.60    0.50   \n4  1993  15      15  ...  0.00  0.23  2.02    0.0    0.0  0.00   6.51    0.31   \n\n   AerLost  AerWon%  \n0     1.19     22.2  \n1     1.23     64.0  \n2     1.05     47.1  \n3     0.50     50.0  \n4     0.39     44.4  \n\n[5 rows x 124 columns]",
      "text/html": "<div>\n<style scoped>\n    .dataframe tbody tr th:only-of-type {\n        vertical-align: middle;\n    }\n\n    .dataframe tbody tr th {\n        vertical-align: top;\n    }\n\n    .dataframe thead th {\n        text-align: right;\n    }\n</style>\n<table border=\"1\" class=\"dataframe\">\n  <thead>\n    <tr style=\"text-align: right;\">\n      <th></th>\n      <th>Rk</th>\n      <th>Player</th>\n      <th>Nation</th>\n      <th>Pos</th>\n      <th>Squad</th>\n      <th>Comp</th>\n      <th>Age</th>\n      <th>Born</th>\n      <th>MP</th>\n      <th>Starts</th>\n      <th>...</th>\n      <th>Off</th>\n      <th>Crs</th>\n      <th>TklW</th>\n      <th>PKwon</th>\n      <th>PKcon</th>\n      <th>OG</th>\n      <th>Recov</th>\n      <th>AerWon</th>\n      <th>AerLost</th>\n      <th>AerWon%</th>\n    </tr>\n  </thead>\n  <tbody>\n    <tr>\n      <th>0</th>\n      <td>1</td>\n      <td>Brenden Aaronson</td>\n      <td>USA</td>\n      <td>MFFW</td>\n      <td>Leeds United</td>\n      <td>Premier League</td>\n      <td>22</td>\n      <td>2000</td>\n      <td>20</td>\n      <td>19</td>\n      <td>...</td>\n      <td>0.17</td>\n      <td>2.54</td>\n      <td>0.51</td>\n      <td>0.0</td>\n      <td>0.0</td>\n      <td>0.00</td>\n      <td>4.86</td>\n      <td>0.34</td>\n      <td>1.19</td>\n      <td>22.2</td>\n    </tr>\n    <tr>\n      <th>1</th>\n      <td>2</td>\n      <td>Yunis Abdelhamid</td>\n      <td>MAR</td>\n      <td>DF</td>\n      <td>Reims</td>\n      <td>Ligue 1</td>\n      <td>35</td>\n      <td>1987</td>\n      <td>22</td>\n      <td>22</td>\n      <td>...</td>\n      <td>0.05</td>\n      <td>0.18</td>\n      <td>1.59</td>\n      <td>0.0</td>\n      <td>0.0</td>\n      <td>0.00</td>\n      <td>6.64</td>\n      <td>2.18</td>\n      <td>1.23</td>\n      <td>64.0</td>\n    </tr>\n    <tr>\n      <th>2</th>\n      <td>3</td>\n      <td>Himad Abdelli</td>\n      <td>FRA</td>\n      <td>MFFW</td>\n      <td>Angers</td>\n      <td>Ligue 1</td>\n      <td>23</td>\n      <td>1999</td>\n      <td>14</td>\n      <td>8</td>\n      <td>...</td>\n      <td>0.00</td>\n      <td>1.05</td>\n      <td>1.40</td>\n      <td>0.0</td>\n      <td>0.0</td>\n      <td>0.00</td>\n      <td>8.14</td>\n      <td>0.93</td>\n      <td>1.05</td>\n      <td>47.1</td>\n    </tr>\n    <tr>\n      <th>3</th>\n      <td>4</td>\n      <td>Salis Abdul Samed</td>\n      <td>GHA</td>\n      <td>MF</td>\n      <td>Lens</td>\n      <td>Ligue 1</td>\n      <td>22</td>\n      <td>2000</td>\n      <td>20</td>\n      <td>20</td>\n      <td>...</td>\n      <td>0.00</td>\n      <td>0.35</td>\n      <td>0.80</td>\n      <td>0.0</td>\n      <td>0.0</td>\n      <td>0.05</td>\n      <td>6.60</td>\n      <td>0.50</td>\n      <td>0.50</td>\n      <td>50.0</td>\n    </tr>\n    <tr>\n      <th>4</th>\n      <td>5</td>\n      <td>Laurent Abergel</td>\n      <td>FRA</td>\n      <td>MF</td>\n      <td>Lorient</td>\n      <td>Ligue 1</td>\n      <td>30</td>\n      <td>1993</td>\n      <td>15</td>\n      <td>15</td>\n      <td>...</td>\n      <td>0.00</td>\n      <td>0.23</td>\n      <td>2.02</td>\n      <td>0.0</td>\n      <td>0.0</td>\n      <td>0.00</td>\n      <td>6.51</td>\n      <td>0.31</td>\n      <td>0.39</td>\n      <td>44.4</td>\n    </tr>\n  </tbody>\n</table>\n<p>5 rows × 124 columns</p>\n</div>"
     },
     "execution_count": 31,
     "metadata": {},
     "output_type": "execute_result"
    }
   ],
   "source": [
    "import pandas as pd\n",
    "\n",
    "player_df = pd.read_csv('dataset/player_stats_22_23.csv', encoding='latin1', delimiter=';')\n",
    "\n",
    "# Print the shape of the DataFrame\n",
    "print(player_df.shape)\n",
    "\n",
    "player_df.head()"
   ]
  },
  {
   "cell_type": "code",
   "outputs": [
    {
     "data": {
      "text/plain": "        Rk             Player Nation   Pos          Squad            Comp  \\\n0        1   Brenden Aaronson    USA  MFFW   Leeds United  Premier League   \n1        2   Yunis Abdelhamid    MAR    DF          Reims         Ligue 1   \n2        3      Himad Abdelli    FRA  MFFW         Angers         Ligue 1   \n3        4  Salis Abdul Samed    GHA    MF           Lens         Ligue 1   \n4        5    Laurent Abergel    FRA    MF        Lorient         Ligue 1   \n...    ...                ...    ...   ...            ...             ...   \n1925  2679       Nadir Zortea    ITA  DFMF       Atalanta         Serie A   \n1926  2680       Nadir Zortea    ITA    DF       Sassuolo         Serie A   \n1927  2681         Kurt Zouma    FRA    DF       West Ham  Premier League   \n1928  2682        Petar Zovko    BIH    GK         Spezia         Serie A   \n1929  2683      Igor Zubeldia    ESP    DF  Real Sociedad         La Liga   \n\n      Age  Born  MP  Starts  ...   Crs  TklW  PKwon  PKcon    OG  Recov  \\\n0      22  2000  20      19  ...  2.54  0.51    0.0    0.0  0.00   4.86   \n1      35  1987  22      22  ...  0.18  1.59    0.0    0.0  0.00   6.64   \n2      23  1999  14       8  ...  1.05  1.40    0.0    0.0  0.00   8.14   \n3      22  2000  20      20  ...  0.35  0.80    0.0    0.0  0.05   6.60   \n4      30  1993  15      15  ...  0.23  2.02    0.0    0.0  0.00   6.51   \n...   ...   ...  ..     ...  ...   ...   ...    ...    ...   ...    ...   \n1925   23  1999   9       1  ...  4.00  2.00    0.0    0.0  0.00   5.60   \n1926   23  1999   1       1  ...  4.00  2.00    0.0    0.0  0.00   7.00   \n1927   28  1994  15      15  ...  0.00  0.14    0.0    0.0  0.00   3.94   \n1928   20  2002   1       0  ...  0.00  0.00    0.0    0.0  0.00   2.50   \n1929   25  1997  16      14  ...  0.21  0.86    0.0    0.0  0.00   4.93   \n\n      AerWon  AerLost  AerWon%  Value (in €)  \n0       0.34     1.19     22.2    14000000.0  \n1       2.18     1.23     64.0      700000.0  \n2       0.93     1.05     47.1     3000000.0  \n3       0.50     0.50     50.0    18000000.0  \n4       0.31     0.39     44.4     3000000.0  \n...      ...      ...      ...           ...  \n1925    2.00     0.40     83.3     2000000.0  \n1926    1.00     2.00     33.3     2000000.0  \n1927    2.61     0.35     88.1    25000000.0  \n1928    0.00     0.00      0.0      100000.0  \n1929    2.00     1.57     56.0    22000000.0  \n\n[1930 rows x 125 columns]",
      "text/html": "<div>\n<style scoped>\n    .dataframe tbody tr th:only-of-type {\n        vertical-align: middle;\n    }\n\n    .dataframe tbody tr th {\n        vertical-align: top;\n    }\n\n    .dataframe thead th {\n        text-align: right;\n    }\n</style>\n<table border=\"1\" class=\"dataframe\">\n  <thead>\n    <tr style=\"text-align: right;\">\n      <th></th>\n      <th>Rk</th>\n      <th>Player</th>\n      <th>Nation</th>\n      <th>Pos</th>\n      <th>Squad</th>\n      <th>Comp</th>\n      <th>Age</th>\n      <th>Born</th>\n      <th>MP</th>\n      <th>Starts</th>\n      <th>...</th>\n      <th>Crs</th>\n      <th>TklW</th>\n      <th>PKwon</th>\n      <th>PKcon</th>\n      <th>OG</th>\n      <th>Recov</th>\n      <th>AerWon</th>\n      <th>AerLost</th>\n      <th>AerWon%</th>\n      <th>Value (in €)</th>\n    </tr>\n  </thead>\n  <tbody>\n    <tr>\n      <th>0</th>\n      <td>1</td>\n      <td>Brenden Aaronson</td>\n      <td>USA</td>\n      <td>MFFW</td>\n      <td>Leeds United</td>\n      <td>Premier League</td>\n      <td>22</td>\n      <td>2000</td>\n      <td>20</td>\n      <td>19</td>\n      <td>...</td>\n      <td>2.54</td>\n      <td>0.51</td>\n      <td>0.0</td>\n      <td>0.0</td>\n      <td>0.00</td>\n      <td>4.86</td>\n      <td>0.34</td>\n      <td>1.19</td>\n      <td>22.2</td>\n      <td>14000000.0</td>\n    </tr>\n    <tr>\n      <th>1</th>\n      <td>2</td>\n      <td>Yunis Abdelhamid</td>\n      <td>MAR</td>\n      <td>DF</td>\n      <td>Reims</td>\n      <td>Ligue 1</td>\n      <td>35</td>\n      <td>1987</td>\n      <td>22</td>\n      <td>22</td>\n      <td>...</td>\n      <td>0.18</td>\n      <td>1.59</td>\n      <td>0.0</td>\n      <td>0.0</td>\n      <td>0.00</td>\n      <td>6.64</td>\n      <td>2.18</td>\n      <td>1.23</td>\n      <td>64.0</td>\n      <td>700000.0</td>\n    </tr>\n    <tr>\n      <th>2</th>\n      <td>3</td>\n      <td>Himad Abdelli</td>\n      <td>FRA</td>\n      <td>MFFW</td>\n      <td>Angers</td>\n      <td>Ligue 1</td>\n      <td>23</td>\n      <td>1999</td>\n      <td>14</td>\n      <td>8</td>\n      <td>...</td>\n      <td>1.05</td>\n      <td>1.40</td>\n      <td>0.0</td>\n      <td>0.0</td>\n      <td>0.00</td>\n      <td>8.14</td>\n      <td>0.93</td>\n      <td>1.05</td>\n      <td>47.1</td>\n      <td>3000000.0</td>\n    </tr>\n    <tr>\n      <th>3</th>\n      <td>4</td>\n      <td>Salis Abdul Samed</td>\n      <td>GHA</td>\n      <td>MF</td>\n      <td>Lens</td>\n      <td>Ligue 1</td>\n      <td>22</td>\n      <td>2000</td>\n      <td>20</td>\n      <td>20</td>\n      <td>...</td>\n      <td>0.35</td>\n      <td>0.80</td>\n      <td>0.0</td>\n      <td>0.0</td>\n      <td>0.05</td>\n      <td>6.60</td>\n      <td>0.50</td>\n      <td>0.50</td>\n      <td>50.0</td>\n      <td>18000000.0</td>\n    </tr>\n    <tr>\n      <th>4</th>\n      <td>5</td>\n      <td>Laurent Abergel</td>\n      <td>FRA</td>\n      <td>MF</td>\n      <td>Lorient</td>\n      <td>Ligue 1</td>\n      <td>30</td>\n      <td>1993</td>\n      <td>15</td>\n      <td>15</td>\n      <td>...</td>\n      <td>0.23</td>\n      <td>2.02</td>\n      <td>0.0</td>\n      <td>0.0</td>\n      <td>0.00</td>\n      <td>6.51</td>\n      <td>0.31</td>\n      <td>0.39</td>\n      <td>44.4</td>\n      <td>3000000.0</td>\n    </tr>\n    <tr>\n      <th>...</th>\n      <td>...</td>\n      <td>...</td>\n      <td>...</td>\n      <td>...</td>\n      <td>...</td>\n      <td>...</td>\n      <td>...</td>\n      <td>...</td>\n      <td>...</td>\n      <td>...</td>\n      <td>...</td>\n      <td>...</td>\n      <td>...</td>\n      <td>...</td>\n      <td>...</td>\n      <td>...</td>\n      <td>...</td>\n      <td>...</td>\n      <td>...</td>\n      <td>...</td>\n      <td>...</td>\n    </tr>\n    <tr>\n      <th>1925</th>\n      <td>2679</td>\n      <td>Nadir Zortea</td>\n      <td>ITA</td>\n      <td>DFMF</td>\n      <td>Atalanta</td>\n      <td>Serie A</td>\n      <td>23</td>\n      <td>1999</td>\n      <td>9</td>\n      <td>1</td>\n      <td>...</td>\n      <td>4.00</td>\n      <td>2.00</td>\n      <td>0.0</td>\n      <td>0.0</td>\n      <td>0.00</td>\n      <td>5.60</td>\n      <td>2.00</td>\n      <td>0.40</td>\n      <td>83.3</td>\n      <td>2000000.0</td>\n    </tr>\n    <tr>\n      <th>1926</th>\n      <td>2680</td>\n      <td>Nadir Zortea</td>\n      <td>ITA</td>\n      <td>DF</td>\n      <td>Sassuolo</td>\n      <td>Serie A</td>\n      <td>23</td>\n      <td>1999</td>\n      <td>1</td>\n      <td>1</td>\n      <td>...</td>\n      <td>4.00</td>\n      <td>2.00</td>\n      <td>0.0</td>\n      <td>0.0</td>\n      <td>0.00</td>\n      <td>7.00</td>\n      <td>1.00</td>\n      <td>2.00</td>\n      <td>33.3</td>\n      <td>2000000.0</td>\n    </tr>\n    <tr>\n      <th>1927</th>\n      <td>2681</td>\n      <td>Kurt Zouma</td>\n      <td>FRA</td>\n      <td>DF</td>\n      <td>West Ham</td>\n      <td>Premier League</td>\n      <td>28</td>\n      <td>1994</td>\n      <td>15</td>\n      <td>15</td>\n      <td>...</td>\n      <td>0.00</td>\n      <td>0.14</td>\n      <td>0.0</td>\n      <td>0.0</td>\n      <td>0.00</td>\n      <td>3.94</td>\n      <td>2.61</td>\n      <td>0.35</td>\n      <td>88.1</td>\n      <td>25000000.0</td>\n    </tr>\n    <tr>\n      <th>1928</th>\n      <td>2682</td>\n      <td>Petar Zovko</td>\n      <td>BIH</td>\n      <td>GK</td>\n      <td>Spezia</td>\n      <td>Serie A</td>\n      <td>20</td>\n      <td>2002</td>\n      <td>1</td>\n      <td>0</td>\n      <td>...</td>\n      <td>0.00</td>\n      <td>0.00</td>\n      <td>0.0</td>\n      <td>0.0</td>\n      <td>0.00</td>\n      <td>2.50</td>\n      <td>0.00</td>\n      <td>0.00</td>\n      <td>0.0</td>\n      <td>100000.0</td>\n    </tr>\n    <tr>\n      <th>1929</th>\n      <td>2683</td>\n      <td>Igor Zubeldia</td>\n      <td>ESP</td>\n      <td>DF</td>\n      <td>Real Sociedad</td>\n      <td>La Liga</td>\n      <td>25</td>\n      <td>1997</td>\n      <td>16</td>\n      <td>14</td>\n      <td>...</td>\n      <td>0.21</td>\n      <td>0.86</td>\n      <td>0.0</td>\n      <td>0.0</td>\n      <td>0.00</td>\n      <td>4.93</td>\n      <td>2.00</td>\n      <td>1.57</td>\n      <td>56.0</td>\n      <td>22000000.0</td>\n    </tr>\n  </tbody>\n</table>\n<p>1930 rows × 125 columns</p>\n</div>"
     },
     "execution_count": 32,
     "metadata": {},
     "output_type": "execute_result"
    }
   ],
   "source": [
    "df = pd.merge(player_df, value_df, on='Player')\n",
    "\n",
    "df"
   ],
   "metadata": {
    "collapsed": false,
    "ExecuteTime": {
     "end_time": "2024-03-08T09:06:22.618630Z",
     "start_time": "2024-03-08T09:06:22.589627Z"
    }
   },
   "id": "fa899bbcf4153b22",
   "execution_count": 32
  },
  {
   "cell_type": "code",
   "execution_count": 33,
   "outputs": [
    {
     "name": "stdout",
     "output_type": "stream",
     "text": [
      "1118\n"
     ]
    }
   ],
   "source": [
    "# Delete double players and keep the player with the highest value\n",
    "df = df.sort_values('Value (in €)', ascending=False).drop_duplicates('Player').sort_index()\n",
    "\n",
    "# Delete players with less than 10 games\n",
    "df = df[df['MP'] >= 10]\n",
    "\n",
    "print(df.shape[0])"
   ],
   "metadata": {
    "collapsed": false,
    "ExecuteTime": {
     "end_time": "2024-03-08T09:06:22.635011Z",
     "start_time": "2024-03-08T09:06:22.620553Z"
    }
   },
   "id": "112f5a5772d64909"
  },
  {
   "cell_type": "code",
   "execution_count": 34,
   "outputs": [
    {
     "data": {
      "text/plain": "           Player  Age        Squad     Comp Nation Pos  Value (in €)  Goals  \\\n2    Breel Embolo   25       Monaco  Ligue 1    SUI  FW    12000000.0     12   \n3    Habib Diallo   27   Strasbourg  Ligue 1    SEN  FW    14000000.0     10   \n6     Boulaye Dia   26  Salernitana  Serie A    SEN  FW    18000000.0      8   \n8  Thijs Dallinga   22     Toulouse  Ligue 1    NED  FW    15000000.0      7   \n7            Beto   25      Udinese  Serie A    GNB  FW    22000000.0      7   \n\n   G/Sh  \n2  0.35  \n3  0.24  \n6  0.32  \n8  0.26  \n7  0.23  ",
      "text/html": "<div>\n<style scoped>\n    .dataframe tbody tr th:only-of-type {\n        vertical-align: middle;\n    }\n\n    .dataframe tbody tr th {\n        vertical-align: top;\n    }\n\n    .dataframe thead th {\n        text-align: right;\n    }\n</style>\n<table border=\"1\" class=\"dataframe\">\n  <thead>\n    <tr style=\"text-align: right;\">\n      <th></th>\n      <th>Player</th>\n      <th>Age</th>\n      <th>Squad</th>\n      <th>Comp</th>\n      <th>Nation</th>\n      <th>Pos</th>\n      <th>Value (in €)</th>\n      <th>Goals</th>\n      <th>G/Sh</th>\n    </tr>\n  </thead>\n  <tbody>\n    <tr>\n      <th>2</th>\n      <td>Breel Embolo</td>\n      <td>25</td>\n      <td>Monaco</td>\n      <td>Ligue 1</td>\n      <td>SUI</td>\n      <td>FW</td>\n      <td>12000000.0</td>\n      <td>12</td>\n      <td>0.35</td>\n    </tr>\n    <tr>\n      <th>3</th>\n      <td>Habib Diallo</td>\n      <td>27</td>\n      <td>Strasbourg</td>\n      <td>Ligue 1</td>\n      <td>SEN</td>\n      <td>FW</td>\n      <td>14000000.0</td>\n      <td>10</td>\n      <td>0.24</td>\n    </tr>\n    <tr>\n      <th>6</th>\n      <td>Boulaye Dia</td>\n      <td>26</td>\n      <td>Salernitana</td>\n      <td>Serie A</td>\n      <td>SEN</td>\n      <td>FW</td>\n      <td>18000000.0</td>\n      <td>8</td>\n      <td>0.32</td>\n    </tr>\n    <tr>\n      <th>8</th>\n      <td>Thijs Dallinga</td>\n      <td>22</td>\n      <td>Toulouse</td>\n      <td>Ligue 1</td>\n      <td>NED</td>\n      <td>FW</td>\n      <td>15000000.0</td>\n      <td>7</td>\n      <td>0.26</td>\n    </tr>\n    <tr>\n      <th>7</th>\n      <td>Beto</td>\n      <td>25</td>\n      <td>Udinese</td>\n      <td>Serie A</td>\n      <td>GNB</td>\n      <td>FW</td>\n      <td>22000000.0</td>\n      <td>7</td>\n      <td>0.23</td>\n    </tr>\n  </tbody>\n</table>\n</div>"
     },
     "execution_count": 34,
     "metadata": {},
     "output_type": "execute_result"
    }
   ],
   "source": [
    "percentage = 1 # Replace with your desired percentage\n",
    "attributes = ['Goals', 'G/Sh'] # Replace with your desired attributes\n",
    "max_value = 50000000 # Replace with your desired maximum value\n",
    "max_age = 28 # Replace with your desired maximum age\n",
    "position = 'FW' # Replace with your desired position\n",
    "\n",
    "# Keep only players with correct condition\n",
    "condition_value = (df['Value (in €)'] < max_value) if max_value is not None else True\n",
    "condition_age = (df['Age'] < max_age) if max_age is not None else True\n",
    "condition_position = (df['Pos'] == position) if position is not None else True\n",
    "\n",
    "players_with_correct_condition = df[condition_value & condition_age & condition_position]\n",
    "\n",
    "best_players = pd.DataFrame()\n",
    "\n",
    "for attribute in attributes:\n",
    "    # Select top percentage of players for each attribute\n",
    "    top_percentage_players = players_with_correct_condition.nlargest(int(len(df) * percentage / 100), attribute)\n",
    "    \n",
    "    # Delete players that have 0 in the attribute\n",
    "    top_percentage_players = top_percentage_players[top_percentage_players[attribute] > 0]\n",
    "\n",
    "    # Add the selected players to the 'best_player' DataFrame\n",
    "    best_players = pd.concat([best_players, top_percentage_players], ignore_index=True)\n",
    "\n",
    "# Keep only the columns of interest\n",
    "best_players = best_players[['Player', 'Age', 'Squad', 'Comp', 'Nation', 'Pos', 'Value (in €)'] + attributes]\n",
    "\n",
    "# Keep only the players that are duplicated if there are more than one attribute\n",
    "if len(attributes) > 1:\n",
    "    best_players = best_players[best_players.duplicated(subset='Player', keep=False)]\n",
    "\n",
    "# Drop duplicates\n",
    "best_players = best_players.drop_duplicates(subset='Player')\n",
    "\n",
    "# Sort the DataFrame by the attributes\n",
    "best_players = best_players.sort_values(by=attributes, ascending=False)\n",
    "\n",
    "# Display the resulting DataFrame\n",
    "best_players"
   ],
   "metadata": {
    "collapsed": false,
    "ExecuteTime": {
     "end_time": "2024-03-08T09:06:22.667250Z",
     "start_time": "2024-03-08T09:06:22.636209Z"
    }
   },
   "id": "579664114cdca6e5"
  },
  {
   "cell_type": "code",
   "outputs": [],
   "source": [],
   "metadata": {
    "collapsed": false,
    "ExecuteTime": {
     "end_time": "2024-03-08T09:06:22.678495Z",
     "start_time": "2024-03-08T09:06:22.668661Z"
    }
   },
   "id": "fc67c0453fe58c12",
   "execution_count": 35
  },
  {
   "cell_type": "code",
   "outputs": [],
   "source": [],
   "metadata": {
    "collapsed": false,
    "ExecuteTime": {
     "end_time": "2024-03-08T09:06:22.682450Z",
     "start_time": "2024-03-08T09:06:22.679955Z"
    }
   },
   "id": "3c6b2fd7d85d3b63",
   "execution_count": 35
  }
 ],
 "metadata": {
  "kernelspec": {
   "display_name": "Python 3",
   "language": "python",
   "name": "python3"
  },
  "language_info": {
   "codemirror_mode": {
    "name": "ipython",
    "version": 2
   },
   "file_extension": ".py",
   "mimetype": "text/x-python",
   "name": "python",
   "nbconvert_exporter": "python",
   "pygments_lexer": "ipython2",
   "version": "2.7.6"
  }
 },
 "nbformat": 4,
 "nbformat_minor": 5
}
